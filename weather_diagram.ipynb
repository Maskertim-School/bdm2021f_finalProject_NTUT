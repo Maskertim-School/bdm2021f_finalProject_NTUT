{
 "cells": [
  {
   "cell_type": "code",
   "execution_count": 50,
   "id": "9d0e9ed1",
   "metadata": {},
   "outputs": [],
   "source": [
    "from sklearn.decomposition import PCA\n",
    "import pandas as pd\n",
    "import numpy as np"
   ]
  },
  {
   "cell_type": "code",
   "execution_count": 51,
   "id": "b52e72ae",
   "metadata": {},
   "outputs": [
    {
     "data": {
      "text/html": [
       "<div>\n",
       "<style scoped>\n",
       "    .dataframe tbody tr th:only-of-type {\n",
       "        vertical-align: middle;\n",
       "    }\n",
       "\n",
       "    .dataframe tbody tr th {\n",
       "        vertical-align: top;\n",
       "    }\n",
       "\n",
       "    .dataframe thead th {\n",
       "        text-align: right;\n",
       "    }\n",
       "</style>\n",
       "<table border=\"1\" class=\"dataframe\">\n",
       "  <thead>\n",
       "    <tr style=\"text-align: right;\">\n",
       "      <th></th>\n",
       "      <th>cluster_index</th>\n",
       "      <th>air_pressure</th>\n",
       "      <th>air_temp</th>\n",
       "      <th>relative_humidity</th>\n",
       "    </tr>\n",
       "  </thead>\n",
       "  <tbody>\n",
       "    <tr>\n",
       "      <th>0</th>\n",
       "      <td>0</td>\n",
       "      <td>912.3</td>\n",
       "      <td>64.76</td>\n",
       "      <td>60.5</td>\n",
       "    </tr>\n",
       "    <tr>\n",
       "      <th>1</th>\n",
       "      <td>0</td>\n",
       "      <td>912.3</td>\n",
       "      <td>63.86</td>\n",
       "      <td>39.9</td>\n",
       "    </tr>\n",
       "    <tr>\n",
       "      <th>2</th>\n",
       "      <td>0</td>\n",
       "      <td>912.3</td>\n",
       "      <td>64.22</td>\n",
       "      <td>43.0</td>\n",
       "    </tr>\n",
       "    <tr>\n",
       "      <th>3</th>\n",
       "      <td>0</td>\n",
       "      <td>912.3</td>\n",
       "      <td>64.40</td>\n",
       "      <td>49.5</td>\n",
       "    </tr>\n",
       "    <tr>\n",
       "      <th>4</th>\n",
       "      <td>0</td>\n",
       "      <td>912.3</td>\n",
       "      <td>64.40</td>\n",
       "      <td>58.8</td>\n",
       "    </tr>\n",
       "    <tr>\n",
       "      <th>...</th>\n",
       "      <td>...</td>\n",
       "      <td>...</td>\n",
       "      <td>...</td>\n",
       "      <td>...</td>\n",
       "    </tr>\n",
       "    <tr>\n",
       "      <th>1587252</th>\n",
       "      <td>0</td>\n",
       "      <td>915.9</td>\n",
       "      <td>74.66</td>\n",
       "      <td>46.3</td>\n",
       "    </tr>\n",
       "    <tr>\n",
       "      <th>1587253</th>\n",
       "      <td>0</td>\n",
       "      <td>915.9</td>\n",
       "      <td>74.66</td>\n",
       "      <td>46.2</td>\n",
       "    </tr>\n",
       "    <tr>\n",
       "      <th>1587254</th>\n",
       "      <td>0</td>\n",
       "      <td>915.9</td>\n",
       "      <td>74.66</td>\n",
       "      <td>46.3</td>\n",
       "    </tr>\n",
       "    <tr>\n",
       "      <th>1587255</th>\n",
       "      <td>0</td>\n",
       "      <td>915.9</td>\n",
       "      <td>74.66</td>\n",
       "      <td>46.2</td>\n",
       "    </tr>\n",
       "    <tr>\n",
       "      <th>1587256</th>\n",
       "      <td>0</td>\n",
       "      <td>915.9</td>\n",
       "      <td>74.66</td>\n",
       "      <td>46.3</td>\n",
       "    </tr>\n",
       "  </tbody>\n",
       "</table>\n",
       "<p>1587257 rows × 4 columns</p>\n",
       "</div>"
      ],
      "text/plain": [
       "         cluster_index  air_pressure  air_temp  relative_humidity\n",
       "0                    0         912.3     64.76               60.5\n",
       "1                    0         912.3     63.86               39.9\n",
       "2                    0         912.3     64.22               43.0\n",
       "3                    0         912.3     64.40               49.5\n",
       "4                    0         912.3     64.40               58.8\n",
       "...                ...           ...       ...                ...\n",
       "1587252              0         915.9     74.66               46.3\n",
       "1587253              0         915.9     74.66               46.2\n",
       "1587254              0         915.9     74.66               46.3\n",
       "1587255              0         915.9     74.66               46.2\n",
       "1587256              0         915.9     74.66               46.3\n",
       "\n",
       "[1587257 rows x 4 columns]"
      ]
     },
     "execution_count": 51,
     "metadata": {},
     "output_type": "execute_result"
    }
   ],
   "source": [
    "weather = pd.read_csv('./r1_weather_pointMapCluster/part-00000-e50c8ded-62bd-4273-95c0-bb24589b34f6-c000.csv')\n",
    "weather"
   ]
  },
  {
   "cell_type": "code",
   "execution_count": 52,
   "id": "a323f481",
   "metadata": {},
   "outputs": [],
   "source": [
    "# weather = weather.sample(frac=0.5)\n",
    "pca_weather = PCA(n_components=2)\n",
    "pcaComponent_weather = pca_weather.fit_transform(weather.iloc[:, 1:].values)\n",
    "labels = weather.iloc[:, 0]\n",
    "\n",
    "pcaComponent_weather_DF = pd.DataFrame(data = pcaComponent_weather, columns = ['pc1', 'pc2'])"
   ]
  },
  {
   "cell_type": "code",
   "execution_count": 53,
   "id": "3a67833f",
   "metadata": {},
   "outputs": [
    {
     "data": {
      "text/plain": [
       "0          0\n",
       "1          0\n",
       "2          0\n",
       "3          0\n",
       "4          0\n",
       "          ..\n",
       "1587252    0\n",
       "1587253    0\n",
       "1587254    0\n",
       "1587255    0\n",
       "1587256    0\n",
       "Name: cluster_index, Length: 1587257, dtype: int64"
      ]
     },
     "execution_count": 53,
     "metadata": {},
     "output_type": "execute_result"
    }
   ],
   "source": [
    "labels"
   ]
  },
  {
   "cell_type": "code",
   "execution_count": 54,
   "id": "d8329c30",
   "metadata": {},
   "outputs": [
    {
     "data": {
      "text/html": [
       "<div>\n",
       "<style scoped>\n",
       "    .dataframe tbody tr th:only-of-type {\n",
       "        vertical-align: middle;\n",
       "    }\n",
       "\n",
       "    .dataframe tbody tr th {\n",
       "        vertical-align: top;\n",
       "    }\n",
       "\n",
       "    .dataframe thead th {\n",
       "        text-align: right;\n",
       "    }\n",
       "</style>\n",
       "<table border=\"1\" class=\"dataframe\">\n",
       "  <thead>\n",
       "    <tr style=\"text-align: right;\">\n",
       "      <th></th>\n",
       "      <th>pc1</th>\n",
       "      <th>pc2</th>\n",
       "    </tr>\n",
       "  </thead>\n",
       "  <tbody>\n",
       "    <tr>\n",
       "      <th>1587252</th>\n",
       "      <td>-5.065776</td>\n",
       "      <td>-11.872857</td>\n",
       "    </tr>\n",
       "    <tr>\n",
       "      <th>1587253</th>\n",
       "      <td>-5.161056</td>\n",
       "      <td>-11.843279</td>\n",
       "    </tr>\n",
       "    <tr>\n",
       "      <th>1587254</th>\n",
       "      <td>-5.065776</td>\n",
       "      <td>-11.872857</td>\n",
       "    </tr>\n",
       "    <tr>\n",
       "      <th>1587255</th>\n",
       "      <td>-5.161056</td>\n",
       "      <td>-11.843279</td>\n",
       "    </tr>\n",
       "    <tr>\n",
       "      <th>1587256</th>\n",
       "      <td>-5.065776</td>\n",
       "      <td>-11.872857</td>\n",
       "    </tr>\n",
       "  </tbody>\n",
       "</table>\n",
       "</div>"
      ],
      "text/plain": [
       "              pc1        pc2\n",
       "1587252 -5.065776 -11.872857\n",
       "1587253 -5.161056 -11.843279\n",
       "1587254 -5.065776 -11.872857\n",
       "1587255 -5.161056 -11.843279\n",
       "1587256 -5.065776 -11.872857"
      ]
     },
     "execution_count": 54,
     "metadata": {},
     "output_type": "execute_result"
    }
   ],
   "source": [
    "pcaComponent_weather_DF.tail()"
   ]
  },
  {
   "cell_type": "code",
   "execution_count": 55,
   "id": "c241f48a",
   "metadata": {},
   "outputs": [
    {
     "data": {
      "text/plain": [
       "<matplotlib.legend.Legend at 0x7f98c9641100>"
      ]
     },
     "execution_count": 55,
     "metadata": {},
     "output_type": "execute_result"
    },
    {
     "data": {
      "image/png": "[encoded data removed]",
      "text/plain": [
       "<Figure size 720x720 with 1 Axes>"
      ]
     },
     "metadata": {
      "needs_background": "light"
     },
     "output_type": "display_data"
    }
   ],
   "source": [
    "from matplotlib import pyplot as plt\n",
    "\n",
    "plt.figure(figsize=(10, 10))\n",
    "plt.xticks(fontsize=12)\n",
    "plt.yticks(fontsize=14)\n",
    "plt.xlabel('Principle Component -1', fontsize=20)\n",
    "plt.ylabel('Principle Component -2', fontsize=20)\n",
    "plt.title(\"Principle Component Analysis of Weather\", fontsize=20)\n",
    "targets = [0, 1, 2]\n",
    "colors = ['r', 'g', 'b']\n",
    "\n",
    "for target, color in zip(targets, colors):\n",
    "    indicesToKeep = weather['cluster_index'] == target\n",
    "    plt.scatter(pcaComponent_weather_DF.loc[indicesToKeep, 'pc1'],\n",
    "               pcaComponent_weather_DF.loc[indicesToKeep, 'pc2'],\n",
    "               c= color,\n",
    "               s = 50)\n",
    "plt.legend(targets, prop={'size':15})"
   ]
  },
  {
   "cell_type": "code",
   "execution_count": null,
   "id": "7db675b7",
   "metadata": {},
   "outputs": [],
   "source": []
  }
 ],
 "metadata": {
  "kernelspec": {
   "display_name": "Python 3 (ipykernel)",
   "language": "python",
   "name": "python3"
  },
  "language_info": {
   "codemirror_mode": {
    "name": "ipython",
    "version": 3
   },
   "file_extension": ".py",
   "mimetype": "text/x-python",
   "name": "python",
   "nbconvert_exporter": "python",
   "pygments_lexer": "ipython3",
   "version": "3.8.12"
  }
 },
 "nbformat": 4,
 "nbformat_minor": 5
}
