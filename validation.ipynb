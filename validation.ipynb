{
 "cells": [
  {
   "cell_type": "code",
   "execution_count": 186,
   "id": "da4cb04b",
   "metadata": {},
   "outputs": [],
   "source": [
    "from pyspark.sql import SparkSession\n",
    "from pyspark.sql.types import StructType, DoubleType, StringType, IntegerType\n",
    "import math\n",
    "from operator import add\n",
    "import numpy as np"
   ]
  },
  {
   "cell_type": "code",
   "execution_count": 127,
   "id": "a09e00cb",
   "metadata": {},
   "outputs": [
    {
     "data": {
      "text/plain": [
       "DataFrame[sepal_length: double, sepal_width: double, petal_length: double, petal_width: double, species: string]"
      ]
     },
     "execution_count": 127,
     "metadata": {},
     "output_type": "execute_result"
    }
   ],
   "source": [
    "spark = SparkSession.builder.appName(\"KMeansWithMapReduce\").getOrCreate()\n",
    "\n",
    "schema = StructType() \\\n",
    "    .add(\"sepal_length\", DoubleType(), True) \\\n",
    "    .add(\"sepal_width\", DoubleType(), True) \\\n",
    "    .add(\"petal_length\", DoubleType(), True) \\\n",
    "    .add(\"petal_width\", DoubleType(), True) \\\n",
    "    .add(\"species\", StringType(), True)\n",
    "\n",
    "df = spark.read.format(\"csv\").option(\"header\", True).schema(schema).load(\"./data/IRIS.csv\")\n",
    "df.na.drop()"
   ]
  },
  {
   "cell_type": "code",
   "execution_count": 128,
   "id": "75fe80eb",
   "metadata": {},
   "outputs": [
    {
     "name": "stdout",
     "output_type": "stream",
     "text": [
      "+------------+-----------+------------+-----------+-----------+\n",
      "|sepal_length|sepal_width|petal_length|petal_width|    species|\n",
      "+------------+-----------+------------+-----------+-----------+\n",
      "|         5.1|        3.5|         1.4|        0.2|Iris-setosa|\n",
      "|         4.9|        3.0|         1.4|        0.2|Iris-setosa|\n",
      "|         4.7|        3.2|         1.3|        0.2|Iris-setosa|\n",
      "|         4.6|        3.1|         1.5|        0.2|Iris-setosa|\n",
      "|         5.0|        3.6|         1.4|        0.2|Iris-setosa|\n",
      "|         5.4|        3.9|         1.7|        0.4|Iris-setosa|\n",
      "|         4.6|        3.4|         1.4|        0.3|Iris-setosa|\n",
      "|         5.0|        3.4|         1.5|        0.2|Iris-setosa|\n",
      "|         4.4|        2.9|         1.4|        0.2|Iris-setosa|\n",
      "|         4.9|        3.1|         1.5|        0.1|Iris-setosa|\n",
      "|         5.4|        3.7|         1.5|        0.2|Iris-setosa|\n",
      "|         4.8|        3.4|         1.6|        0.2|Iris-setosa|\n",
      "|         4.8|        3.0|         1.4|        0.1|Iris-setosa|\n",
      "|         4.3|        3.0|         1.1|        0.1|Iris-setosa|\n",
      "|         5.8|        4.0|         1.2|        0.2|Iris-setosa|\n",
      "|         5.7|        4.4|         1.5|        0.4|Iris-setosa|\n",
      "|         5.4|        3.9|         1.3|        0.4|Iris-setosa|\n",
      "|         5.1|        3.5|         1.4|        0.3|Iris-setosa|\n",
      "|         5.7|        3.8|         1.7|        0.3|Iris-setosa|\n",
      "|         5.1|        3.8|         1.5|        0.3|Iris-setosa|\n",
      "+------------+-----------+------------+-----------+-----------+\n",
      "only showing top 20 rows\n",
      "\n"
     ]
    }
   ],
   "source": [
    "df.show()"
   ]
  },
  {
   "cell_type": "code",
   "execution_count": 129,
   "id": "54153b78",
   "metadata": {},
   "outputs": [],
   "source": [
    "# k clusters\n",
    "k = 3\n",
    "# threshold between new and old centroid\n",
    "threshold = 0.4\n",
    "\n",
    "# randomly select centroids\n",
    "centroids = df.rdd.takeSample(False, k, seed=0)\n",
    "centroids = [[c.sepal_length, c.sepal_width, c.petal_length, c.petal_width] for c in centroids]\n",
    "# centroid structure: (index, [centroid features]) e.g., (1, [2.0, 3.0, 5.0, 0.2])\n",
    "centroids = [(idx, centroid) for idx, centroid in enumerate(centroids)]"
   ]
  },
  {
   "cell_type": "code",
   "execution_count": 130,
   "id": "aa46c484",
   "metadata": {},
   "outputs": [
    {
     "name": "stdout",
     "output_type": "stream",
     "text": [
      "(0, [5.8, 2.7, 5.1, 1.9])\n",
      "(1, [6.0, 3.0, 4.8, 1.8])\n",
      "(2, [7.4, 2.8, 6.1, 1.9])\n"
     ]
    }
   ],
   "source": [
    "# show centroid structure\n",
    "for _ in range(3):\n",
    "    print(centroids[_])"
   ]
  },
  {
   "cell_type": "code",
   "execution_count": 131,
   "id": "425cdce9",
   "metadata": {},
   "outputs": [
    {
     "data": {
      "text/plain": [
       "PythonRDD[119] at RDD at PythonRDD.scala:53"
      ]
     },
     "execution_count": 131,
     "metadata": {},
     "output_type": "execute_result"
    }
   ],
   "source": [
    "# set points\n",
    "points = df.rdd\n",
    "# point structure: ([point features], count) e.g., ([2.0, 5.0, 2.5, 0.6], 1)\n",
    "points_rdd = points.map(lambda p: ([p.sepal_length, p.sepal_width, p.petal_length, p.petal_width], 1))\n",
    "points_rdd.cache()"
   ]
  },
  {
   "cell_type": "code",
   "execution_count": 132,
   "id": "478aebd2",
   "metadata": {},
   "outputs": [
    {
     "data": {
      "text/plain": [
       "[([5.1, 3.5, 1.4, 0.2], 1),\n",
       " ([4.9, 3.0, 1.4, 0.2], 1),\n",
       " ([4.7, 3.2, 1.3, 0.2], 1)]"
      ]
     },
     "execution_count": 132,
     "metadata": {},
     "output_type": "execute_result"
    }
   ],
   "source": [
    "points_rdd.take(3)"
   ]
  },
  {
   "cell_type": "code",
   "execution_count": 133,
   "id": "c88a87e9",
   "metadata": {},
   "outputs": [],
   "source": [
    "\"\"\" calculate distance \"\"\"\n",
    "def calculateDistance(point, centroid):\n",
    "    distance = 0\n",
    "    for index in range(len(point)):\n",
    "        distance += (point[index]-centroid[index])**2\n",
    "    return math.sqrt(distance)"
   ]
  },
  {
   "cell_type": "code",
   "execution_count": 134,
   "id": "f8f67c7c",
   "metadata": {},
   "outputs": [],
   "source": [
    "\"\"\" belongs to Centroid \"\"\"\n",
    "def belongCluster(point, centroids):\n",
    "    centroidIndex = 0\n",
    "    closest = float(\"+inf\")\n",
    "    for centroid in centroids:\n",
    "        dist = calculateDistance(point, centroid[1])\n",
    "        if dist < closest:\n",
    "            closest = dist\n",
    "            centroidIndex = centroid[0]\n",
    "    return centroidIndex"
   ]
  },
  {
   "cell_type": "code",
   "execution_count": 135,
   "id": "0ef9a82f",
   "metadata": {},
   "outputs": [],
   "source": [
    "\"\"\" Reduce all points in each centroid \"\"\"\n",
    "def accumulatedCluster(p1, p2):\n",
    "    cluster_sum = list(map(add, p1[0], p2[0]))\n",
    "    cluster_count = p1[1]+p2[1]\n",
    "    p = (cluster_sum, cluster_count)\n",
    "    return p"
   ]
  },
  {
   "cell_type": "code",
   "execution_count": 136,
   "id": "7cd0b48a",
   "metadata": {},
   "outputs": [],
   "source": [
    "# Map Phase\n",
    "pointMapCentroid_rdd = points_rdd.keyBy(lambda point: belongCluster(point[0], centroids))"
   ]
  },
  {
   "cell_type": "code",
   "execution_count": 137,
   "id": "37b8361f",
   "metadata": {},
   "outputs": [
    {
     "data": {
      "text/plain": [
       "[(1, ([5.1, 3.5, 1.4, 0.2], 1)),\n",
       " (1, ([4.9, 3.0, 1.4, 0.2], 1)),\n",
       " (1, ([4.7, 3.2, 1.3, 0.2], 1)),\n",
       " (1, ([4.6, 3.1, 1.5, 0.2], 1)),\n",
       " (1, ([5.0, 3.6, 1.4, 0.2], 1))]"
      ]
     },
     "execution_count": 137,
     "metadata": {},
     "output_type": "execute_result"
    }
   ],
   "source": [
    "pointMapCentroid_rdd.take(5)"
   ]
  },
  {
   "cell_type": "code",
   "execution_count": 138,
   "id": "7504105f",
   "metadata": {},
   "outputs": [],
   "source": [
    "# Reduce Phase\n",
    "pointReducedCentroid_rdd = pointMapCentroid_rdd.reduceByKey(lambda p1, p2: accumulatedCluster(p1, p2))"
   ]
  },
  {
   "cell_type": "code",
   "execution_count": 139,
   "id": "86fd7782",
   "metadata": {},
   "outputs": [
    {
     "data": {
      "text/plain": [
       "[(1,\n",
       "  ([630.0000000000002,\n",
       "    349.00000000000006,\n",
       "    353.00000000000006,\n",
       "    104.19999999999996],\n",
       "   113)),\n",
       " (0, ([96.1, 43.900000000000006, 84.09999999999998, 31.199999999999996], 16)),\n",
       " (2, ([150.40000000000003, 65.2, 126.7, 44.4], 21))]"
      ]
     },
     "execution_count": 139,
     "metadata": {},
     "output_type": "execute_result"
    }
   ],
   "source": [
    "pointReducedCentroid_rdd.take(3)"
   ]
  },
  {
   "cell_type": "code",
   "execution_count": 140,
   "id": "622738a8",
   "metadata": {},
   "outputs": [],
   "source": [
    "pointReducedCentroid_rdd = pointReducedCentroid_rdd.map(lambda p: (p[0], np.divide(p[1][0], p[1][1]).tolist()))"
   ]
  },
  {
   "cell_type": "code",
   "execution_count": 141,
   "id": "3f299470",
   "metadata": {},
   "outputs": [
    {
     "data": {
      "text/plain": [
       "[(1,\n",
       "  [5.575221238938055,\n",
       "   3.0884955752212395,\n",
       "   3.123893805309735,\n",
       "   0.9221238938053093]),\n",
       " (0, [6.00625, 2.7437500000000004, 5.256249999999999, 1.9499999999999997]),\n",
       " (2,\n",
       "  [7.161904761904763,\n",
       "   3.104761904761905,\n",
       "   6.033333333333333,\n",
       "   2.1142857142857143])]"
      ]
     },
     "execution_count": 141,
     "metadata": {},
     "output_type": "execute_result"
    }
   ],
   "source": [
    "pointReducedCentroid_rdd.take(3)"
   ]
  },
  {
   "cell_type": "code",
   "execution_count": 142,
   "id": "544e7ba0",
   "metadata": {},
   "outputs": [],
   "source": [
    "reduced_points = pointReducedCentroid_rdd.collect()"
   ]
  },
  {
   "cell_type": "code",
   "execution_count": 143,
   "id": "e957ff00",
   "metadata": {},
   "outputs": [
    {
     "name": "stdout",
     "output_type": "stream",
     "text": [
      "(1, [5.575221238938055, 3.0884955752212395, 3.123893805309735, 0.9221238938053093])\n",
      "(0, [6.00625, 2.7437500000000004, 5.256249999999999, 1.9499999999999997])\n",
      "(2, [7.161904761904763, 3.104761904761905, 6.033333333333333, 2.1142857142857143])\n"
     ]
    }
   ],
   "source": [
    "for _ in reduced_points:\n",
    "    print(_)"
   ]
  },
  {
   "cell_type": "code",
   "execution_count": 144,
   "id": "b6d13158",
   "metadata": {},
   "outputs": [],
   "source": [
    "# create new centroids\n",
    "new_centroids = sorted(reduced_points)\n",
    "centroids.sort()"
   ]
  },
  {
   "cell_type": "code",
   "execution_count": 145,
   "id": "880bbd59",
   "metadata": {},
   "outputs": [
    {
     "data": {
      "text/plain": [
       "[(0, [6.00625, 2.7437500000000004, 5.256249999999999, 1.9499999999999997]),\n",
       " (1,\n",
       "  [5.575221238938055,\n",
       "   3.0884955752212395,\n",
       "   3.123893805309735,\n",
       "   0.9221238938053093]),\n",
       " (2,\n",
       "  [7.161904761904763,\n",
       "   3.104761904761905,\n",
       "   6.033333333333333,\n",
       "   2.1142857142857143])]"
      ]
     },
     "execution_count": 145,
     "metadata": {},
     "output_type": "execute_result"
    }
   ],
   "source": [
    "# create new centroids\n",
    "new_centroids"
   ]
  },
  {
   "cell_type": "code",
   "execution_count": 146,
   "id": "46f61fd6",
   "metadata": {},
   "outputs": [
    {
     "data": {
      "text/plain": [
       "[(0, [5.8, 2.7, 5.1, 1.9]),\n",
       " (1, [6.0, 3.0, 4.8, 1.8]),\n",
       " (2, [7.4, 2.8, 6.1, 1.9])]"
      ]
     },
     "execution_count": 146,
     "metadata": {},
     "output_type": "execute_result"
    }
   ],
   "source": [
    "# create new centroids\n",
    "centroids"
   ]
  },
  {
   "cell_type": "code",
   "execution_count": 147,
   "id": "8b1eba56",
   "metadata": {},
   "outputs": [
    {
     "name": "stdout",
     "output_type": "stream",
     "text": [
      "0.2671463784145307\n",
      "1.9412024357056865\n",
      "0.4471375322975196\n",
      "not converged, still run\n"
     ]
    }
   ],
   "source": [
    "# check convergence or not\n",
    "convergence_percentage = 0\n",
    "for index, centroid in enumerate(centroids):\n",
    "    dist = calculateDistance(centroid[1], new_centroids[index][1])\n",
    "    print(dist)\n",
    "    \n",
    "    if dist < threshold:\n",
    "        convergence_percentage += 1\n",
    "        \n",
    "centroids = new_centroids\n",
    "percentage = len(centroids)*80/100\n",
    "\n",
    "if convergence_percentage > percentage:\n",
    "    print(\"Centroids converged\")\n",
    "else:\n",
    "    print(\"not converged, still run\")"
   ]
  },
  {
   "cell_type": "code",
   "execution_count": 175,
   "id": "1de6888a",
   "metadata": {},
   "outputs": [
    {
     "name": "stdout",
     "output_type": "stream",
     "text": [
      "+-------------+------------+-----------+------------+-----------+\n",
      "|cluster_index|sepal_length|sepal_width|petal_length|petal_width|\n",
      "+-------------+------------+-----------+------------+-----------+\n",
      "|            1|         5.1|        3.5|         1.4|        0.2|\n",
      "|            1|         4.9|        3.0|         1.4|        0.2|\n",
      "|            1|         4.7|        3.2|         1.3|        0.2|\n",
      "|            1|         4.6|        3.1|         1.5|        0.2|\n",
      "|            1|         5.0|        3.6|         1.4|        0.2|\n",
      "|            1|         5.4|        3.9|         1.7|        0.4|\n",
      "|            1|         4.6|        3.4|         1.4|        0.3|\n",
      "|            1|         5.0|        3.4|         1.5|        0.2|\n",
      "|            1|         4.4|        2.9|         1.4|        0.2|\n",
      "|            1|         4.9|        3.1|         1.5|        0.1|\n",
      "|            1|         5.4|        3.7|         1.5|        0.2|\n",
      "|            1|         4.8|        3.4|         1.6|        0.2|\n",
      "|            1|         4.8|        3.0|         1.4|        0.1|\n",
      "|            1|         4.3|        3.0|         1.1|        0.1|\n",
      "|            1|         5.8|        4.0|         1.2|        0.2|\n",
      "|            1|         5.7|        4.4|         1.5|        0.4|\n",
      "|            1|         5.4|        3.9|         1.3|        0.4|\n",
      "|            1|         5.1|        3.5|         1.4|        0.3|\n",
      "|            1|         5.7|        3.8|         1.7|        0.3|\n",
      "|            1|         5.1|        3.8|         1.5|        0.3|\n",
      "+-------------+------------+-----------+------------+-----------+\n",
      "only showing top 20 rows\n",
      "\n"
     ]
    }
   ],
   "source": [
    "schema_result2 = StructType() \\\n",
    "    .add(\"cluster_index\", IntegerType(), True) \\\n",
    "    .add(\"sepal_length\", DoubleType(), True) \\\n",
    "    .add(\"sepal_width\", DoubleType(), True) \\\n",
    "    .add(\"petal_length\", DoubleType(), True) \\\n",
    "    .add(\"petal_width\", DoubleType(), True)\n",
    "\n",
    "df_result1 = spark.createDataFrame(pointMapCentroid_rdd.map(lambda p: (p[0], p[1][0][0], p[1][0][1],\n",
    "                                                                    p[1][0][2], p[1][0][3])), schema=schema_result)\n",
    "df_result1.show()"
   ]
  },
  {
   "cell_type": "code",
   "execution_count": 168,
   "id": "54a22b91",
   "metadata": {},
   "outputs": [],
   "source": [
    "df_result1.write.option(\"header\", True).csv(\"./result1\")"
   ]
  },
  {
   "cell_type": "code",
   "execution_count": 187,
   "id": "433b430e",
   "metadata": {},
   "outputs": [
    {
     "name": "stdout",
     "output_type": "stream",
     "text": [
      "+-------------+-----------------+------------------+-----------------+------------------+\n",
      "|cluster_index|     sepal_length|       sepal_width|     petal_length|       petal_width|\n",
      "+-------------+-----------------+------------------+-----------------+------------------+\n",
      "|            0|          6.00625|2.7437500000000004|5.256249999999999|1.9499999999999997|\n",
      "|            1|5.575221238938055|3.0884955752212395|3.123893805309735|0.9221238938053093|\n",
      "|            2|7.161904761904763| 3.104761904761905|6.033333333333333|2.1142857142857143|\n",
      "+-------------+-----------------+------------------+-----------------+------------------+\n",
      "\n"
     ]
    }
   ],
   "source": [
    "df_result2 = spark.createDataFrame(spark.sparkContext.parallelize(centroids).map(lambda p: (p[0], p[1][0], p[1][1],\n",
    "                                                    p[1][2], p[1][3])), schema=schema_result)\n",
    "df_result2.show()"
   ]
  },
  {
   "cell_type": "code",
   "execution_count": 190,
   "id": "806cb64e",
   "metadata": {},
   "outputs": [],
   "source": [
    "df_result2.coalesce(1).write.option(\"header\", True).csv(\"./result2\")"
   ]
  },
  {
   "cell_type": "code",
   "execution_count": null,
   "id": "ed45fa28",
   "metadata": {},
   "outputs": [],
   "source": []
  }
 ],
 "metadata": {
  "kernelspec": {
   "display_name": "Python 3 (ipykernel)",
   "language": "python",
   "name": "python3"
  },
  "language_info": {
   "codemirror_mode": {
    "name": "ipython",
    "version": 3
   },
   "file_extension": ".py",
   "mimetype": "text/x-python",
   "name": "python",
   "nbconvert_exporter": "python",
   "pygments_lexer": "ipython3",
   "version": "3.8.12"
  }
 },
 "nbformat": 4,
 "nbformat_minor": 5
}
